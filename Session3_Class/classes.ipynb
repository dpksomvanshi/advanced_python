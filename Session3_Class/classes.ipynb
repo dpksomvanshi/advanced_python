{
 "cells": [
  {
   "cell_type": "markdown",
   "metadata": {},
   "source": [
    "### Classes in Python - OOPS"
   ]
  },
  {
   "cell_type": "code",
   "execution_count": 1,
   "metadata": {},
   "outputs": [
    {
     "name": "stdout",
     "output_type": "stream",
     "text": [
      "<class 'int'>\n"
     ]
    }
   ],
   "source": [
    "age =28\n",
    "print(type(age))"
   ]
  },
  {
   "cell_type": "code",
   "execution_count": 2,
   "metadata": {},
   "outputs": [
    {
     "name": "stdout",
     "output_type": "stream",
     "text": [
      "<class 'float'>\n"
     ]
    }
   ],
   "source": [
    "h = 5.6\n",
    "print(type(h))"
   ]
  },
  {
   "cell_type": "markdown",
   "metadata": {},
   "source": [
    "### Create a custom class"
   ]
  },
  {
   "cell_type": "code",
   "execution_count": 3,
   "metadata": {},
   "outputs": [],
   "source": [
    "class Person:\n",
    "\n",
    "    #constructor function \n",
    "    def __init__(self,age,name,gender,occupation):\n",
    "        self.name =name\n",
    "        self.age = age\n",
    "        self.gender = gender\n",
    "        self.occupation = occupation\n",
    "\n",
    "    # User Defined Function\n",
    "    def talk(self):\n",
    "        print(f'Hi There My name is {self.name}')\n",
    "        print(f'My Age is {self.age}')\n",
    "        print(f'I am {self.gender}')\n",
    "        print(f'I work as {self.occupation}')\n",
    "        \n",
    "    \n",
    "    \n"
   ]
  },
  {
   "cell_type": "code",
   "execution_count": 4,
   "metadata": {},
   "outputs": [],
   "source": [
    "p1 = Person(name='Dipika',age=32, gender='Female', occupation='Web Analyst')"
   ]
  },
  {
   "cell_type": "code",
   "execution_count": 5,
   "metadata": {},
   "outputs": [
    {
     "data": {
      "text/plain": [
       "<__main__.Person at 0x21f36e93150>"
      ]
     },
     "execution_count": 5,
     "metadata": {},
     "output_type": "execute_result"
    }
   ],
   "source": [
    "p1"
   ]
  },
  {
   "cell_type": "code",
   "execution_count": 6,
   "metadata": {},
   "outputs": [
    {
     "data": {
      "text/plain": [
       "32"
      ]
     },
     "execution_count": 6,
     "metadata": {},
     "output_type": "execute_result"
    }
   ],
   "source": [
    "p1.age"
   ]
  },
  {
   "cell_type": "code",
   "execution_count": 7,
   "metadata": {},
   "outputs": [
    {
     "data": {
      "text/plain": [
       "'Web Analyst'"
      ]
     },
     "execution_count": 7,
     "metadata": {},
     "output_type": "execute_result"
    }
   ],
   "source": [
    "p1.occupation"
   ]
  },
  {
   "cell_type": "code",
   "execution_count": 8,
   "metadata": {},
   "outputs": [
    {
     "name": "stdout",
     "output_type": "stream",
     "text": [
      "Hi There My name is Dipika\n",
      "My Age is 32\n",
      "I am Female\n",
      "I work as Web Analyst\n"
     ]
    }
   ],
   "source": [
    "p1.talk()"
   ]
  },
  {
   "cell_type": "code",
   "execution_count": 9,
   "metadata": {},
   "outputs": [],
   "source": [
    "p2 = Person(name='Rahul',age= 29, gender='M',occupation='SAP' )"
   ]
  },
  {
   "cell_type": "code",
   "execution_count": 10,
   "metadata": {},
   "outputs": [
    {
     "name": "stdout",
     "output_type": "stream",
     "text": [
      "Hi There My name is Rahul\n",
      "My Age is 29\n",
      "I am M\n",
      "I work as SAP\n"
     ]
    }
   ],
   "source": [
    "p2.talk()"
   ]
  },
  {
   "cell_type": "markdown",
   "metadata": {},
   "source": [
    "## Bank Account Example"
   ]
  },
  {
   "cell_type": "code",
   "execution_count": 11,
   "metadata": {},
   "outputs": [],
   "source": [
    "class account:\n",
    "\n",
    "    #add init constructor\n",
    "    def __init__(self,ac_no,name,bal=0):\n",
    "        self.ac_no = ac_no\n",
    "        self.name = name\n",
    "        self.bal = bal\n",
    "    \n",
    "    # Function for depositing Money\n",
    "    def deposit(self,amt):\n",
    "        self.bal = self.bal + amt\n",
    "        print(f'Amount of {amt} INR has been deposited to your bank account number : {self.ac_no}')\n",
    "        print(f'Current Balance : {self.bal} INR')\n",
    "    \n",
    "    # Function to withdraw amount\n",
    "    def withdraw(self,amt):\n",
    "        if self.bal >= amt:\n",
    "            self.bal = self.bal - amt\n",
    "            print(f'Amount of {amt} INR withdrawn from your bank account number : {self.ac_no}')\n",
    "            print(f'Current Balance : {self.bal} INR')\n",
    "        else:\n",
    "            print(f'Insufficient Balance in account {self.ac_no}. Current Balance in your account is {self.bal} INR')\n",
    "    \n",
    "    # Function to transfer the money\n",
    "    def transfer(self, amt, ac2):\n",
    "        if self.bal >= amt:\n",
    "            self.bal = self.bal - amt\n",
    "            ac2.bal = ac2.bal + amt\n",
    "            print(f'Amount of {amt} INR Transferred to account number : {ac2.ac_no} from your account : {self.ac_no}')\n",
    "            print(f'Current Balance : {self.bal} INR')\n",
    "        else:\n",
    "            print(f'Insufficient balance in account {self.ac_no}. Current balance in your account is{self.bal} INR')\n",
    "\n",
    "\n",
    "\n",
    "\n",
    "\n"
   ]
  },
  {
   "cell_type": "code",
   "execution_count": 12,
   "metadata": {},
   "outputs": [],
   "source": [
    "a1 = account(ac_no=123, name='Sarthak Sharma', bal=5000)"
   ]
  },
  {
   "cell_type": "code",
   "execution_count": 13,
   "metadata": {},
   "outputs": [
    {
     "data": {
      "text/plain": [
       "123"
      ]
     },
     "execution_count": 13,
     "metadata": {},
     "output_type": "execute_result"
    }
   ],
   "source": [
    "a1.ac_no"
   ]
  },
  {
   "cell_type": "code",
   "execution_count": 14,
   "metadata": {},
   "outputs": [
    {
     "data": {
      "text/plain": [
       "5000"
      ]
     },
     "execution_count": 14,
     "metadata": {},
     "output_type": "execute_result"
    }
   ],
   "source": [
    "a1.bal"
   ]
  },
  {
   "cell_type": "code",
   "execution_count": 15,
   "metadata": {},
   "outputs": [
    {
     "name": "stdout",
     "output_type": "stream",
     "text": [
      "Amount of 3000 INR has been deposited to your bank account number : 123\n",
      "Current Balance : 8000 INR\n"
     ]
    }
   ],
   "source": [
    "a1.deposit(3000)"
   ]
  },
  {
   "cell_type": "code",
   "execution_count": 16,
   "metadata": {},
   "outputs": [
    {
     "name": "stdout",
     "output_type": "stream",
     "text": [
      "Amount of 2000 INR withdrawn from your bank account number : 123\n",
      "Current Balance : 6000 INR\n"
     ]
    }
   ],
   "source": [
    "a1.withdraw(2000)"
   ]
  },
  {
   "cell_type": "code",
   "execution_count": 18,
   "metadata": {},
   "outputs": [],
   "source": [
    "a2 = account(ac_no=456, name='Raman Verma')\n"
   ]
  },
  {
   "cell_type": "code",
   "execution_count": 19,
   "metadata": {},
   "outputs": [
    {
     "name": "stdout",
     "output_type": "stream",
     "text": [
      "Amount of 2000 INR Transferred to account number : 456 from your account : 123\n",
      "Current Balance : 4000 INR\n"
     ]
    }
   ],
   "source": [
    "a1.transfer(amt=2000,ac2=a2)"
   ]
  },
  {
   "cell_type": "code",
   "execution_count": null,
   "metadata": {},
   "outputs": [],
   "source": []
  }
 ],
 "metadata": {
  "kernelspec": {
   "display_name": "venv",
   "language": "python",
   "name": "python3"
  },
  "language_info": {
   "codemirror_mode": {
    "name": "ipython",
    "version": 3
   },
   "file_extension": ".py",
   "mimetype": "text/x-python",
   "name": "python",
   "nbconvert_exporter": "python",
   "pygments_lexer": "ipython3",
   "version": "3.11.5"
  },
  "orig_nbformat": 4
 },
 "nbformat": 4,
 "nbformat_minor": 2
}
